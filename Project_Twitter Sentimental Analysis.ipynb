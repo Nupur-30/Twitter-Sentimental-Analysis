{
 "cells": [
  {
   "cell_type": "code",
   "execution_count": 1,
   "id": "07f5a01e",
   "metadata": {},
   "outputs": [
    {
     "name": "stdout",
     "output_type": "stream",
     "text": [
      "Requirement already satisfied: gensim in /Users/nupurmehlawat/anaconda3/lib/python3.11/site-packages (4.3.2)\n",
      "Requirement already satisfied: numpy>=1.18.5 in /Users/nupurmehlawat/anaconda3/lib/python3.11/site-packages (from gensim) (1.24.3)\n",
      "Requirement already satisfied: scipy>=1.7.0 in /Users/nupurmehlawat/anaconda3/lib/python3.11/site-packages (from gensim) (1.10.1)\n",
      "Requirement already satisfied: smart-open>=1.8.1 in /Users/nupurmehlawat/anaconda3/lib/python3.11/site-packages (from gensim) (5.2.1)\n",
      "Requirement already satisfied: pandas in /Users/nupurmehlawat/anaconda3/lib/python3.11/site-packages (2.1.3)\n",
      "Requirement already satisfied: numpy<2,>=1.23.2 in /Users/nupurmehlawat/anaconda3/lib/python3.11/site-packages (from pandas) (1.24.3)\n",
      "Requirement already satisfied: python-dateutil>=2.8.2 in /Users/nupurmehlawat/anaconda3/lib/python3.11/site-packages (from pandas) (2.8.2)\n",
      "Requirement already satisfied: pytz>=2020.1 in /Users/nupurmehlawat/anaconda3/lib/python3.11/site-packages (from pandas) (2022.7)\n",
      "Requirement already satisfied: tzdata>=2022.1 in /Users/nupurmehlawat/anaconda3/lib/python3.11/site-packages (from pandas) (2023.3)\n",
      "Requirement already satisfied: six>=1.5 in /Users/nupurmehlawat/anaconda3/lib/python3.11/site-packages (from python-dateutil>=2.8.2->pandas) (1.16.0)\n",
      "\u001b[31mERROR: Could not find a version that satisfies the requirement keras--upgrade (from versions: none)\u001b[0m\u001b[31m\n",
      "\u001b[0m\u001b[31mERROR: No matching distribution found for keras--upgrade\u001b[0m\u001b[31m\n",
      "\u001b[0m"
     ]
    }
   ],
   "source": [
    "!pip install gensim --upgrade\n",
    "!pip install pandas --upgrade\n",
    "!pip install keras--upgrade"
   ]
  },
  {
   "cell_type": "code",
   "execution_count": 2,
   "id": "d991325b",
   "metadata": {},
   "outputs": [],
   "source": [
    "# DataFrame\n",
    "import pandas as pd\n",
    "import gensim "
   ]
  },
  {
   "cell_type": "code",
   "execution_count": 3,
   "id": "e89076a3",
   "metadata": {},
   "outputs": [],
   "source": [
    "# Matplot\n",
    "import matplotlib.pyplot as plt\n",
    "%matplotlib inline"
   ]
  },
  {
   "cell_type": "code",
   "execution_count": 4,
   "id": "5d73333f",
   "metadata": {},
   "outputs": [],
   "source": [
    "# Scikit-learn\n",
    "from sklearn.model_selection import train_test_split\n",
    "from sklearn.preprocessing import LabelEncoder\n",
    "from sklearn.metrics import confusion_matrix, classification_report, accuracy_score\n",
    "from sklearn.manifold import TSNE\n",
    "from sklearn.feature_extraction.text import TfidfVectorizer"
   ]
  },
  {
   "cell_type": "code",
   "execution_count": 5,
   "id": "c3440ec9",
   "metadata": {},
   "outputs": [],
   "source": [
    "# nltk\n",
    "import nltk\n",
    "from nltk.corpus import stopwords\n",
    "from  nltk.stem import SnowballStemmer"
   ]
  },
  {
   "cell_type": "code",
   "execution_count": 6,
   "id": "9c92c677",
   "metadata": {},
   "outputs": [],
   "source": [
    "# Word2vec\n",
    "import gensim"
   ]
  },
  {
   "cell_type": "code",
   "execution_count": 7,
   "id": "3a2b10a7",
   "metadata": {},
   "outputs": [],
   "source": [
    "# Utility\n",
    "import re\n",
    "import numpy as np\n",
    "import os\n",
    "from collections import Counter\n",
    "import logging\n",
    "import time\n",
    "import pickle\n",
    "import itertools"
   ]
  },
  {
   "cell_type": "code",
   "execution_count": 8,
   "id": "8e3b0512",
   "metadata": {},
   "outputs": [],
   "source": [
    "# Set log\n",
    "logging.basicConfig(format='%(asctime)s : %(levelname)s : %(message)s', level=logging.INFO)"
   ]
  },
  {
   "cell_type": "code",
   "execution_count": 9,
   "id": "93a579b9",
   "metadata": {},
   "outputs": [
    {
     "name": "stdout",
     "output_type": "stream",
     "text": [
      "Requirement already satisfied: tensorflow in /Users/nupurmehlawat/anaconda3/lib/python3.11/site-packages (2.13.0)\n",
      "Requirement already satisfied: tensorflow-macos==2.13.0 in /Users/nupurmehlawat/anaconda3/lib/python3.11/site-packages (from tensorflow) (2.13.0)\n",
      "Requirement already satisfied: absl-py>=1.0.0 in /Users/nupurmehlawat/anaconda3/lib/python3.11/site-packages (from tensorflow-macos==2.13.0->tensorflow) (1.4.0)\n",
      "Requirement already satisfied: astunparse>=1.6.0 in /Users/nupurmehlawat/anaconda3/lib/python3.11/site-packages (from tensorflow-macos==2.13.0->tensorflow) (1.6.3)\n",
      "Requirement already satisfied: flatbuffers>=23.1.21 in /Users/nupurmehlawat/anaconda3/lib/python3.11/site-packages (from tensorflow-macos==2.13.0->tensorflow) (23.5.26)\n",
      "Requirement already satisfied: gast<=0.4.0,>=0.2.1 in /Users/nupurmehlawat/anaconda3/lib/python3.11/site-packages (from tensorflow-macos==2.13.0->tensorflow) (0.4.0)\n",
      "Requirement already satisfied: google-pasta>=0.1.1 in /Users/nupurmehlawat/anaconda3/lib/python3.11/site-packages (from tensorflow-macos==2.13.0->tensorflow) (0.2.0)\n",
      "Requirement already satisfied: h5py>=2.9.0 in /Users/nupurmehlawat/anaconda3/lib/python3.11/site-packages (from tensorflow-macos==2.13.0->tensorflow) (3.7.0)\n",
      "Requirement already satisfied: libclang>=13.0.0 in /Users/nupurmehlawat/anaconda3/lib/python3.11/site-packages (from tensorflow-macos==2.13.0->tensorflow) (16.0.6)\n",
      "Requirement already satisfied: numpy<=1.24.3,>=1.22 in /Users/nupurmehlawat/anaconda3/lib/python3.11/site-packages (from tensorflow-macos==2.13.0->tensorflow) (1.24.3)\n",
      "Requirement already satisfied: opt-einsum>=2.3.2 in /Users/nupurmehlawat/anaconda3/lib/python3.11/site-packages (from tensorflow-macos==2.13.0->tensorflow) (3.3.0)\n",
      "Requirement already satisfied: packaging in /Users/nupurmehlawat/anaconda3/lib/python3.11/site-packages (from tensorflow-macos==2.13.0->tensorflow) (23.0)\n",
      "Requirement already satisfied: protobuf!=4.21.0,!=4.21.1,!=4.21.2,!=4.21.3,!=4.21.4,!=4.21.5,<5.0.0dev,>=3.20.3 in /Users/nupurmehlawat/anaconda3/lib/python3.11/site-packages (from tensorflow-macos==2.13.0->tensorflow) (4.24.2)\n",
      "Requirement already satisfied: setuptools in /Users/nupurmehlawat/anaconda3/lib/python3.11/site-packages (from tensorflow-macos==2.13.0->tensorflow) (68.0.0)\n",
      "Requirement already satisfied: six>=1.12.0 in /Users/nupurmehlawat/anaconda3/lib/python3.11/site-packages (from tensorflow-macos==2.13.0->tensorflow) (1.16.0)\n",
      "Requirement already satisfied: termcolor>=1.1.0 in /Users/nupurmehlawat/anaconda3/lib/python3.11/site-packages (from tensorflow-macos==2.13.0->tensorflow) (2.3.0)\n",
      "Requirement already satisfied: typing-extensions<4.6.0,>=3.6.6 in /Users/nupurmehlawat/anaconda3/lib/python3.11/site-packages (from tensorflow-macos==2.13.0->tensorflow) (4.5.0)\n",
      "Requirement already satisfied: wrapt>=1.11.0 in /Users/nupurmehlawat/anaconda3/lib/python3.11/site-packages (from tensorflow-macos==2.13.0->tensorflow) (1.14.1)\n",
      "Requirement already satisfied: grpcio<2.0,>=1.24.3 in /Users/nupurmehlawat/anaconda3/lib/python3.11/site-packages (from tensorflow-macos==2.13.0->tensorflow) (1.57.0)\n",
      "Requirement already satisfied: tensorboard<2.14,>=2.13 in /Users/nupurmehlawat/anaconda3/lib/python3.11/site-packages (from tensorflow-macos==2.13.0->tensorflow) (2.13.0)\n",
      "Requirement already satisfied: tensorflow-estimator<2.14,>=2.13.0 in /Users/nupurmehlawat/anaconda3/lib/python3.11/site-packages (from tensorflow-macos==2.13.0->tensorflow) (2.13.0)\n",
      "Requirement already satisfied: keras<2.14,>=2.13.1 in /Users/nupurmehlawat/anaconda3/lib/python3.11/site-packages (from tensorflow-macos==2.13.0->tensorflow) (2.13.1)\n",
      "Requirement already satisfied: wheel<1.0,>=0.23.0 in /Users/nupurmehlawat/anaconda3/lib/python3.11/site-packages (from astunparse>=1.6.0->tensorflow-macos==2.13.0->tensorflow) (0.38.4)\n",
      "Requirement already satisfied: google-auth<3,>=1.6.3 in /Users/nupurmehlawat/anaconda3/lib/python3.11/site-packages (from tensorboard<2.14,>=2.13->tensorflow-macos==2.13.0->tensorflow) (2.22.0)\n",
      "Requirement already satisfied: google-auth-oauthlib<1.1,>=0.5 in /Users/nupurmehlawat/anaconda3/lib/python3.11/site-packages (from tensorboard<2.14,>=2.13->tensorflow-macos==2.13.0->tensorflow) (1.0.0)\n",
      "Requirement already satisfied: markdown>=2.6.8 in /Users/nupurmehlawat/anaconda3/lib/python3.11/site-packages (from tensorboard<2.14,>=2.13->tensorflow-macos==2.13.0->tensorflow) (3.4.1)\n",
      "Requirement already satisfied: requests<3,>=2.21.0 in /Users/nupurmehlawat/anaconda3/lib/python3.11/site-packages (from tensorboard<2.14,>=2.13->tensorflow-macos==2.13.0->tensorflow) (2.31.0)\n",
      "Requirement already satisfied: tensorboard-data-server<0.8.0,>=0.7.0 in /Users/nupurmehlawat/anaconda3/lib/python3.11/site-packages (from tensorboard<2.14,>=2.13->tensorflow-macos==2.13.0->tensorflow) (0.7.1)\n",
      "Requirement already satisfied: werkzeug>=1.0.1 in /Users/nupurmehlawat/anaconda3/lib/python3.11/site-packages (from tensorboard<2.14,>=2.13->tensorflow-macos==2.13.0->tensorflow) (2.2.3)\n",
      "Requirement already satisfied: cachetools<6.0,>=2.0.0 in /Users/nupurmehlawat/anaconda3/lib/python3.11/site-packages (from google-auth<3,>=1.6.3->tensorboard<2.14,>=2.13->tensorflow-macos==2.13.0->tensorflow) (5.3.1)\n",
      "Requirement already satisfied: pyasn1-modules>=0.2.1 in /Users/nupurmehlawat/anaconda3/lib/python3.11/site-packages (from google-auth<3,>=1.6.3->tensorboard<2.14,>=2.13->tensorflow-macos==2.13.0->tensorflow) (0.2.8)\n",
      "Requirement already satisfied: rsa<5,>=3.1.4 in /Users/nupurmehlawat/anaconda3/lib/python3.11/site-packages (from google-auth<3,>=1.6.3->tensorboard<2.14,>=2.13->tensorflow-macos==2.13.0->tensorflow) (4.9)\n",
      "Requirement already satisfied: urllib3<2.0 in /Users/nupurmehlawat/anaconda3/lib/python3.11/site-packages (from google-auth<3,>=1.6.3->tensorboard<2.14,>=2.13->tensorflow-macos==2.13.0->tensorflow) (1.26.16)\n",
      "Requirement already satisfied: requests-oauthlib>=0.7.0 in /Users/nupurmehlawat/anaconda3/lib/python3.11/site-packages (from google-auth-oauthlib<1.1,>=0.5->tensorboard<2.14,>=2.13->tensorflow-macos==2.13.0->tensorflow) (1.3.1)\n",
      "Requirement already satisfied: charset-normalizer<4,>=2 in /Users/nupurmehlawat/anaconda3/lib/python3.11/site-packages (from requests<3,>=2.21.0->tensorboard<2.14,>=2.13->tensorflow-macos==2.13.0->tensorflow) (2.0.4)\n",
      "Requirement already satisfied: idna<4,>=2.5 in /Users/nupurmehlawat/anaconda3/lib/python3.11/site-packages (from requests<3,>=2.21.0->tensorboard<2.14,>=2.13->tensorflow-macos==2.13.0->tensorflow) (3.4)\n",
      "Requirement already satisfied: certifi>=2017.4.17 in /Users/nupurmehlawat/anaconda3/lib/python3.11/site-packages (from requests<3,>=2.21.0->tensorboard<2.14,>=2.13->tensorflow-macos==2.13.0->tensorflow) (2023.7.22)\n",
      "Requirement already satisfied: MarkupSafe>=2.1.1 in /Users/nupurmehlawat/anaconda3/lib/python3.11/site-packages (from werkzeug>=1.0.1->tensorboard<2.14,>=2.13->tensorflow-macos==2.13.0->tensorflow) (2.1.1)\n",
      "Requirement already satisfied: pyasn1<0.5.0,>=0.4.6 in /Users/nupurmehlawat/anaconda3/lib/python3.11/site-packages (from pyasn1-modules>=0.2.1->google-auth<3,>=1.6.3->tensorboard<2.14,>=2.13->tensorflow-macos==2.13.0->tensorflow) (0.4.8)\n",
      "Requirement already satisfied: oauthlib>=3.0.0 in /Users/nupurmehlawat/anaconda3/lib/python3.11/site-packages (from requests-oauthlib>=0.7.0->google-auth-oauthlib<1.1,>=0.5->tensorboard<2.14,>=2.13->tensorflow-macos==2.13.0->tensorflow) (3.2.2)\n",
      "Note: you may need to restart the kernel to use updated packages.\n"
     ]
    }
   ],
   "source": [
    "pip install tensorflow"
   ]
  },
  {
   "cell_type": "code",
   "execution_count": 10,
   "id": "ba5b6940",
   "metadata": {},
   "outputs": [],
   "source": [
    "from tensorflow.keras.preprocessing.text import Tokenizer\n",
    "from tensorflow.keras.preprocessing.sequence import pad_sequences\n",
    "from tensorflow.keras.models import Sequential\n",
    "from tensorflow.keras.layers import Activation, Dense, Dropout, Embedding, Flatten, Conv1D, MaxPooling1D, LSTM\n",
    "from tensorflow.keras import utils\n",
    "from tensorflow.keras.callbacks import ReduceLROnPlateau, EarlyStopping"
   ]
  },
  {
   "cell_type": "code",
   "execution_count": 11,
   "id": "ad07f7bd",
   "metadata": {},
   "outputs": [
    {
     "name": "stderr",
     "output_type": "stream",
     "text": [
      "[nltk_data] Downloading package stopwords to\n",
      "[nltk_data]     /Users/nupurmehlawat/nltk_data...\n",
      "[nltk_data]   Package stopwords is already up-to-date!\n"
     ]
    },
    {
     "data": {
      "text/plain": [
       "True"
      ]
     },
     "execution_count": 11,
     "metadata": {},
     "output_type": "execute_result"
    }
   ],
   "source": [
    "nltk.download('stopwords')"
   ]
  },
  {
   "cell_type": "code",
   "execution_count": 12,
   "id": "b31fa1cc",
   "metadata": {},
   "outputs": [],
   "source": [
    "# DATASET\n",
    "DATASET_COLUMNS = [\"target\", \"ids\", \"date\", \"flag\", \"user\", \"text\"]\n",
    "DATASET_ENCODING = \"ISO-8859-1\"\n",
    "TRAIN_SIZE = 0.8\n",
    "\n",
    "# TEXT CLENAING\n",
    "TEXT_CLEANING_RE = \"@\\S+|https?:\\S+|http?:\\S|[^A-Za-z0-9]+\"\n",
    "\n",
    "# WORD2VEC \n",
    "W2V_SIZE = 300\n",
    "W2V_WINDOW = 7\n",
    "W2V_EPOCH = 32\n",
    "W2V_MIN_COUNT = 10\n",
    "\n",
    "# KERAS\n",
    "SEQUENCE_LENGTH = 300\n",
    "EPOCHS = 8\n",
    "BATCH_SIZE = 1024\n",
    "\n",
    "# SENTIMENT\n",
    "POSITIVE = \"POSITIVE\"\n",
    "NEGATIVE = \"NEGATIVE\"\n",
    "NEUTRAL = \"NEUTRAL\"\n",
    "SENTIMENT_THRESHOLDS = (0.4, 0.7)\n",
    "\n",
    "# EXPORT\n",
    "KERAS_MODEL = \"model.h5\"\n",
    "WORD2VEC_MODEL = \"model.w2v\"\n",
    "TOKENIZER_MODEL = \"tokenizer.pkl\"\n",
    "ENCODER_MODEL = \"encoder.pkl\""
   ]
  },
  {
   "cell_type": "code",
   "execution_count": 13,
   "id": "87812b0b",
   "metadata": {},
   "outputs": [
    {
     "name": "stdout",
     "output_type": "stream",
     "text": [
      "   target          id                          date      flag  \\\n",
      "0       0  1467810369  Mon Apr 06 22:19:45 PDT 2009  NO_QUERY   \n",
      "1       0  1467810672  Mon Apr 06 22:19:49 PDT 2009  NO_QUERY   \n",
      "2       0  1467810917  Mon Apr 06 22:19:53 PDT 2009  NO_QUERY   \n",
      "3       0  1467811184  Mon Apr 06 22:19:57 PDT 2009  NO_QUERY   \n",
      "4       0  1467811193  Mon Apr 06 22:19:57 PDT 2009  NO_QUERY   \n",
      "\n",
      "              user                                               text  \n",
      "0  _TheSpecialOne_  @switchfoot http://twitpic.com/2y1zl - Awww, t...  \n",
      "1    scotthamilton  is upset that he can't update his Facebook by ...  \n",
      "2         mattycus  @Kenichan I dived many times for the ball. Man...  \n",
      "3          ElleCTF    my whole body feels itchy and like its on fire   \n",
      "4           Karoli  @nationwideclass no, it's not behaving at all....  \n"
     ]
    }
   ],
   "source": [
    "import pandas as pd\n",
    "\n",
    "# Define the file path\n",
    "file_path = '/Users/nupurmehlawat/Downloads/training.1600000.processed.noemoticon.csv'\n",
    "\n",
    "# Read the CSV file\n",
    "df = pd.read_csv(file_path, header=None, encoding='ISO-8859-1', names=['target', 'id', 'date', 'flag', 'user', 'text'])\n",
    "\n",
    "# Display the first few rows of the DataFrame\n",
    "print(df.head())\n"
   ]
  },
  {
   "cell_type": "code",
   "execution_count": 14,
   "id": "f9bed816",
   "metadata": {},
   "outputs": [
    {
     "name": "stdout",
     "output_type": "stream",
     "text": [
      "Dataset size: 1600000\n"
     ]
    }
   ],
   "source": [
    "print(\"Dataset size:\", len(df))"
   ]
  },
  {
   "cell_type": "code",
   "execution_count": 15,
   "id": "601bfec6",
   "metadata": {},
   "outputs": [
    {
     "data": {
      "text/html": [
       "<div>\n",
       "<style scoped>\n",
       "    .dataframe tbody tr th:only-of-type {\n",
       "        vertical-align: middle;\n",
       "    }\n",
       "\n",
       "    .dataframe tbody tr th {\n",
       "        vertical-align: top;\n",
       "    }\n",
       "\n",
       "    .dataframe thead th {\n",
       "        text-align: right;\n",
       "    }\n",
       "</style>\n",
       "<table border=\"1\" class=\"dataframe\">\n",
       "  <thead>\n",
       "    <tr style=\"text-align: right;\">\n",
       "      <th></th>\n",
       "      <th>target</th>\n",
       "      <th>id</th>\n",
       "      <th>date</th>\n",
       "      <th>flag</th>\n",
       "      <th>user</th>\n",
       "      <th>text</th>\n",
       "    </tr>\n",
       "  </thead>\n",
       "  <tbody>\n",
       "    <tr>\n",
       "      <th>0</th>\n",
       "      <td>0</td>\n",
       "      <td>1467810369</td>\n",
       "      <td>Mon Apr 06 22:19:45 PDT 2009</td>\n",
       "      <td>NO_QUERY</td>\n",
       "      <td>_TheSpecialOne_</td>\n",
       "      <td>@switchfoot http://twitpic.com/2y1zl - Awww, t...</td>\n",
       "    </tr>\n",
       "    <tr>\n",
       "      <th>1</th>\n",
       "      <td>0</td>\n",
       "      <td>1467810672</td>\n",
       "      <td>Mon Apr 06 22:19:49 PDT 2009</td>\n",
       "      <td>NO_QUERY</td>\n",
       "      <td>scotthamilton</td>\n",
       "      <td>is upset that he can't update his Facebook by ...</td>\n",
       "    </tr>\n",
       "    <tr>\n",
       "      <th>2</th>\n",
       "      <td>0</td>\n",
       "      <td>1467810917</td>\n",
       "      <td>Mon Apr 06 22:19:53 PDT 2009</td>\n",
       "      <td>NO_QUERY</td>\n",
       "      <td>mattycus</td>\n",
       "      <td>@Kenichan I dived many times for the ball. Man...</td>\n",
       "    </tr>\n",
       "    <tr>\n",
       "      <th>3</th>\n",
       "      <td>0</td>\n",
       "      <td>1467811184</td>\n",
       "      <td>Mon Apr 06 22:19:57 PDT 2009</td>\n",
       "      <td>NO_QUERY</td>\n",
       "      <td>ElleCTF</td>\n",
       "      <td>my whole body feels itchy and like its on fire</td>\n",
       "    </tr>\n",
       "    <tr>\n",
       "      <th>4</th>\n",
       "      <td>0</td>\n",
       "      <td>1467811193</td>\n",
       "      <td>Mon Apr 06 22:19:57 PDT 2009</td>\n",
       "      <td>NO_QUERY</td>\n",
       "      <td>Karoli</td>\n",
       "      <td>@nationwideclass no, it's not behaving at all....</td>\n",
       "    </tr>\n",
       "  </tbody>\n",
       "</table>\n",
       "</div>"
      ],
      "text/plain": [
       "   target          id                          date      flag  \\\n",
       "0       0  1467810369  Mon Apr 06 22:19:45 PDT 2009  NO_QUERY   \n",
       "1       0  1467810672  Mon Apr 06 22:19:49 PDT 2009  NO_QUERY   \n",
       "2       0  1467810917  Mon Apr 06 22:19:53 PDT 2009  NO_QUERY   \n",
       "3       0  1467811184  Mon Apr 06 22:19:57 PDT 2009  NO_QUERY   \n",
       "4       0  1467811193  Mon Apr 06 22:19:57 PDT 2009  NO_QUERY   \n",
       "\n",
       "              user                                               text  \n",
       "0  _TheSpecialOne_  @switchfoot http://twitpic.com/2y1zl - Awww, t...  \n",
       "1    scotthamilton  is upset that he can't update his Facebook by ...  \n",
       "2         mattycus  @Kenichan I dived many times for the ball. Man...  \n",
       "3          ElleCTF    my whole body feels itchy and like its on fire   \n",
       "4           Karoli  @nationwideclass no, it's not behaving at all....  "
      ]
     },
     "execution_count": 15,
     "metadata": {},
     "output_type": "execute_result"
    }
   ],
   "source": [
    "df.head(5)"
   ]
  },
  {
   "cell_type": "code",
   "execution_count": 16,
   "id": "d340e8f2",
   "metadata": {},
   "outputs": [
    {
     "name": "stdout",
     "output_type": "stream",
     "text": [
      "<class 'pandas.core.frame.DataFrame'>\n",
      "RangeIndex: 1600000 entries, 0 to 1599999\n",
      "Data columns (total 6 columns):\n",
      " #   Column  Non-Null Count    Dtype \n",
      "---  ------  --------------    ----- \n",
      " 0   target  1600000 non-null  int64 \n",
      " 1   id      1600000 non-null  int64 \n",
      " 2   date    1600000 non-null  object\n",
      " 3   flag    1600000 non-null  object\n",
      " 4   user    1600000 non-null  object\n",
      " 5   text    1600000 non-null  object\n",
      "dtypes: int64(2), object(4)\n",
      "memory usage: 73.2+ MB\n"
     ]
    }
   ],
   "source": [
    "df.info()"
   ]
  },
  {
   "cell_type": "code",
   "execution_count": 17,
   "id": "ff5302ae",
   "metadata": {},
   "outputs": [
    {
     "data": {
      "text/html": [
       "<div>\n",
       "<style scoped>\n",
       "    .dataframe tbody tr th:only-of-type {\n",
       "        vertical-align: middle;\n",
       "    }\n",
       "\n",
       "    .dataframe tbody tr th {\n",
       "        vertical-align: top;\n",
       "    }\n",
       "\n",
       "    .dataframe thead th {\n",
       "        text-align: right;\n",
       "    }\n",
       "</style>\n",
       "<table border=\"1\" class=\"dataframe\">\n",
       "  <thead>\n",
       "    <tr style=\"text-align: right;\">\n",
       "      <th></th>\n",
       "      <th>target</th>\n",
       "      <th>id</th>\n",
       "    </tr>\n",
       "  </thead>\n",
       "  <tbody>\n",
       "    <tr>\n",
       "      <th>count</th>\n",
       "      <td>1.600000e+06</td>\n",
       "      <td>1.600000e+06</td>\n",
       "    </tr>\n",
       "    <tr>\n",
       "      <th>mean</th>\n",
       "      <td>2.000000e+00</td>\n",
       "      <td>1.998818e+09</td>\n",
       "    </tr>\n",
       "    <tr>\n",
       "      <th>std</th>\n",
       "      <td>2.000001e+00</td>\n",
       "      <td>1.935761e+08</td>\n",
       "    </tr>\n",
       "    <tr>\n",
       "      <th>min</th>\n",
       "      <td>0.000000e+00</td>\n",
       "      <td>1.467810e+09</td>\n",
       "    </tr>\n",
       "    <tr>\n",
       "      <th>25%</th>\n",
       "      <td>0.000000e+00</td>\n",
       "      <td>1.956916e+09</td>\n",
       "    </tr>\n",
       "    <tr>\n",
       "      <th>50%</th>\n",
       "      <td>2.000000e+00</td>\n",
       "      <td>2.002102e+09</td>\n",
       "    </tr>\n",
       "    <tr>\n",
       "      <th>75%</th>\n",
       "      <td>4.000000e+00</td>\n",
       "      <td>2.177059e+09</td>\n",
       "    </tr>\n",
       "    <tr>\n",
       "      <th>max</th>\n",
       "      <td>4.000000e+00</td>\n",
       "      <td>2.329206e+09</td>\n",
       "    </tr>\n",
       "  </tbody>\n",
       "</table>\n",
       "</div>"
      ],
      "text/plain": [
       "             target            id\n",
       "count  1.600000e+06  1.600000e+06\n",
       "mean   2.000000e+00  1.998818e+09\n",
       "std    2.000001e+00  1.935761e+08\n",
       "min    0.000000e+00  1.467810e+09\n",
       "25%    0.000000e+00  1.956916e+09\n",
       "50%    2.000000e+00  2.002102e+09\n",
       "75%    4.000000e+00  2.177059e+09\n",
       "max    4.000000e+00  2.329206e+09"
      ]
     },
     "execution_count": 17,
     "metadata": {},
     "output_type": "execute_result"
    }
   ],
   "source": [
    "df.describe()"
   ]
  },
  {
   "cell_type": "code",
   "execution_count": 18,
   "id": "5b6021ed",
   "metadata": {},
   "outputs": [],
   "source": [
    "df = df.sample(frac=0.1, random_state=42)"
   ]
  },
  {
   "cell_type": "code",
   "execution_count": 19,
   "id": "4fb5ea17",
   "metadata": {},
   "outputs": [
    {
     "data": {
      "text/html": [
       "<div>\n",
       "<style scoped>\n",
       "    .dataframe tbody tr th:only-of-type {\n",
       "        vertical-align: middle;\n",
       "    }\n",
       "\n",
       "    .dataframe tbody tr th {\n",
       "        vertical-align: top;\n",
       "    }\n",
       "\n",
       "    .dataframe thead th {\n",
       "        text-align: right;\n",
       "    }\n",
       "</style>\n",
       "<table border=\"1\" class=\"dataframe\">\n",
       "  <thead>\n",
       "    <tr style=\"text-align: right;\">\n",
       "      <th></th>\n",
       "      <th>target</th>\n",
       "      <th>id</th>\n",
       "      <th>date</th>\n",
       "      <th>flag</th>\n",
       "      <th>user</th>\n",
       "      <th>text</th>\n",
       "    </tr>\n",
       "  </thead>\n",
       "  <tbody>\n",
       "    <tr>\n",
       "      <th>541200</th>\n",
       "      <td>0</td>\n",
       "      <td>2200003196</td>\n",
       "      <td>Tue Jun 16 18:18:12 PDT 2009</td>\n",
       "      <td>NO_QUERY</td>\n",
       "      <td>LaLaLindsey0609</td>\n",
       "      <td>@chrishasboobs AHHH I HOPE YOUR OK!!!</td>\n",
       "    </tr>\n",
       "    <tr>\n",
       "      <th>750</th>\n",
       "      <td>0</td>\n",
       "      <td>1467998485</td>\n",
       "      <td>Mon Apr 06 23:11:14 PDT 2009</td>\n",
       "      <td>NO_QUERY</td>\n",
       "      <td>sexygrneyes</td>\n",
       "      <td>@misstoriblack cool , i have no tweet apps  fo...</td>\n",
       "    </tr>\n",
       "    <tr>\n",
       "      <th>766711</th>\n",
       "      <td>0</td>\n",
       "      <td>2300048954</td>\n",
       "      <td>Tue Jun 23 13:40:11 PDT 2009</td>\n",
       "      <td>NO_QUERY</td>\n",
       "      <td>sammydearr</td>\n",
       "      <td>@TiannaChaos i know  just family drama. its la...</td>\n",
       "    </tr>\n",
       "    <tr>\n",
       "      <th>285055</th>\n",
       "      <td>0</td>\n",
       "      <td>1993474027</td>\n",
       "      <td>Mon Jun 01 10:26:07 PDT 2009</td>\n",
       "      <td>NO_QUERY</td>\n",
       "      <td>Lamb_Leanne</td>\n",
       "      <td>School email won't open  and I have geography ...</td>\n",
       "    </tr>\n",
       "    <tr>\n",
       "      <th>705995</th>\n",
       "      <td>0</td>\n",
       "      <td>2256550904</td>\n",
       "      <td>Sat Jun 20 12:56:51 PDT 2009</td>\n",
       "      <td>NO_QUERY</td>\n",
       "      <td>yogicerdito</td>\n",
       "      <td>upper airways problem</td>\n",
       "    </tr>\n",
       "    <tr>\n",
       "      <th>...</th>\n",
       "      <td>...</td>\n",
       "      <td>...</td>\n",
       "      <td>...</td>\n",
       "      <td>...</td>\n",
       "      <td>...</td>\n",
       "      <td>...</td>\n",
       "    </tr>\n",
       "    <tr>\n",
       "      <th>1574177</th>\n",
       "      <td>4</td>\n",
       "      <td>2189199207</td>\n",
       "      <td>Mon Jun 15 23:28:21 PDT 2009</td>\n",
       "      <td>NO_QUERY</td>\n",
       "      <td>mainbasket</td>\n",
       "      <td>@willjonz thank you Will</td>\n",
       "    </tr>\n",
       "    <tr>\n",
       "      <th>49646</th>\n",
       "      <td>0</td>\n",
       "      <td>1678213724</td>\n",
       "      <td>Sat May 02 05:56:37 PDT 2009</td>\n",
       "      <td>NO_QUERY</td>\n",
       "      <td>MagicElla</td>\n",
       "      <td>@HeartlessHippie AAAAAAAAH what's wrong?!</td>\n",
       "    </tr>\n",
       "    <tr>\n",
       "      <th>1317229</th>\n",
       "      <td>4</td>\n",
       "      <td>2014242841</td>\n",
       "      <td>Wed Jun 03 00:53:53 PDT 2009</td>\n",
       "      <td>NO_QUERY</td>\n",
       "      <td>kewlrats</td>\n",
       "      <td>@samhouston Will see you there tomorrow at the...</td>\n",
       "    </tr>\n",
       "    <tr>\n",
       "      <th>520455</th>\n",
       "      <td>0</td>\n",
       "      <td>2192116541</td>\n",
       "      <td>Tue Jun 16 06:32:06 PDT 2009</td>\n",
       "      <td>NO_QUERY</td>\n",
       "      <td>iXombie</td>\n",
       "      <td>Forgot that Xbox Live would be down today.</td>\n",
       "    </tr>\n",
       "    <tr>\n",
       "      <th>427964</th>\n",
       "      <td>0</td>\n",
       "      <td>2063837266</td>\n",
       "      <td>Sun Jun 07 04:16:08 PDT 2009</td>\n",
       "      <td>NO_QUERY</td>\n",
       "      <td>laura0108</td>\n",
       "      <td>So I got up at 12 today and I have to get up a...</td>\n",
       "    </tr>\n",
       "  </tbody>\n",
       "</table>\n",
       "<p>160000 rows × 6 columns</p>\n",
       "</div>"
      ],
      "text/plain": [
       "         target          id                          date      flag  \\\n",
       "541200        0  2200003196  Tue Jun 16 18:18:12 PDT 2009  NO_QUERY   \n",
       "750           0  1467998485  Mon Apr 06 23:11:14 PDT 2009  NO_QUERY   \n",
       "766711        0  2300048954  Tue Jun 23 13:40:11 PDT 2009  NO_QUERY   \n",
       "285055        0  1993474027  Mon Jun 01 10:26:07 PDT 2009  NO_QUERY   \n",
       "705995        0  2256550904  Sat Jun 20 12:56:51 PDT 2009  NO_QUERY   \n",
       "...         ...         ...                           ...       ...   \n",
       "1574177       4  2189199207  Mon Jun 15 23:28:21 PDT 2009  NO_QUERY   \n",
       "49646         0  1678213724  Sat May 02 05:56:37 PDT 2009  NO_QUERY   \n",
       "1317229       4  2014242841  Wed Jun 03 00:53:53 PDT 2009  NO_QUERY   \n",
       "520455        0  2192116541  Tue Jun 16 06:32:06 PDT 2009  NO_QUERY   \n",
       "427964        0  2063837266  Sun Jun 07 04:16:08 PDT 2009  NO_QUERY   \n",
       "\n",
       "                    user                                               text  \n",
       "541200   LaLaLindsey0609             @chrishasboobs AHHH I HOPE YOUR OK!!!   \n",
       "750          sexygrneyes  @misstoriblack cool , i have no tweet apps  fo...  \n",
       "766711        sammydearr  @TiannaChaos i know  just family drama. its la...  \n",
       "285055       Lamb_Leanne  School email won't open  and I have geography ...  \n",
       "705995       yogicerdito                             upper airways problem   \n",
       "...                  ...                                                ...  \n",
       "1574177       mainbasket                          @willjonz thank you Will   \n",
       "49646          MagicElla         @HeartlessHippie AAAAAAAAH what's wrong?!   \n",
       "1317229         kewlrats  @samhouston Will see you there tomorrow at the...  \n",
       "520455           iXombie        Forgot that Xbox Live would be down today.   \n",
       "427964         laura0108  So I got up at 12 today and I have to get up a...  \n",
       "\n",
       "[160000 rows x 6 columns]"
      ]
     },
     "execution_count": 19,
     "metadata": {},
     "output_type": "execute_result"
    }
   ],
   "source": [
    "df"
   ]
  },
  {
   "cell_type": "code",
   "execution_count": 20,
   "id": "b4c7db39",
   "metadata": {},
   "outputs": [
    {
     "name": "stdout",
     "output_type": "stream",
     "text": [
      "modified length of the dataset\n"
     ]
    },
    {
     "data": {
      "text/plain": [
       "160000"
      ]
     },
     "execution_count": 20,
     "metadata": {},
     "output_type": "execute_result"
    }
   ],
   "source": [
    "print(\"modified length of the dataset\")\n",
    "len(df)"
   ]
  },
  {
   "cell_type": "code",
   "execution_count": 21,
   "id": "e8deb12d",
   "metadata": {},
   "outputs": [
    {
     "name": "stdout",
     "output_type": "stream",
     "text": [
      "No null values found in the DataFrame.\n"
     ]
    }
   ],
   "source": [
    "# Check if there are any null values in the entire DataFrame\n",
    "any_null = df.isnull().any().any()\n",
    "\n",
    "if any_null:\n",
    "    print(\"There are null values in the DataFrame.\")\n",
    "else:\n",
    "    print(\"No null values found in the DataFrame.\")"
   ]
  },
  {
   "cell_type": "code",
   "execution_count": 22,
   "id": "e36689ac",
   "metadata": {},
   "outputs": [],
   "source": [
    "#Map target label to String\n",
    "#0 -> NEGATIVE\n",
    "#2 -> NEUTRAL\n",
    "#4 -> POSITIVE"
   ]
  },
  {
   "cell_type": "code",
   "execution_count": 23,
   "id": "26b905ba",
   "metadata": {},
   "outputs": [],
   "source": [
    "decode_map = {0: \"NEGATIVE\", 2: \"NEUTRAL\", 4: \"POSITIVE\"}\n",
    "def decode_sentiment(label):\n",
    "    return decode_map[int(label)]"
   ]
  },
  {
   "cell_type": "code",
   "execution_count": 24,
   "id": "dcf12c90",
   "metadata": {},
   "outputs": [
    {
     "name": "stdout",
     "output_type": "stream",
     "text": [
      "CPU times: user 16.5 ms, sys: 988 µs, total: 17.5 ms\n",
      "Wall time: 16.9 ms\n"
     ]
    }
   ],
   "source": [
    "%%time\n",
    "df.target = df.target.apply(lambda x: decode_sentiment(x))"
   ]
  },
  {
   "cell_type": "code",
   "execution_count": 25,
   "id": "6b60c059",
   "metadata": {},
   "outputs": [
    {
     "data": {
      "text/plain": [
       "Text(0.5, 1.0, 'Dataset labels distribuition')"
      ]
     },
     "execution_count": 25,
     "metadata": {},
     "output_type": "execute_result"
    },
    {
     "data": {
      "image/png": "[encoded data removed]",
      "text/plain": [
       "<Figure size 1600x800 with 1 Axes>"
      ]
     },
     "metadata": {},
     "output_type": "display_data"
    }
   ],
   "source": [
    "target_cnt = Counter(df.target)\n",
    "\n",
    "plt.figure(figsize=(16,8))\n",
    "plt.bar(target_cnt.keys(), target_cnt.values())\n",
    "plt.title(\"Dataset labels distribuition\")"
   ]
  },
  {
   "cell_type": "code",
   "execution_count": 26,
   "id": "9b429dd1",
   "metadata": {},
   "outputs": [],
   "source": [
    "stop_words = stopwords.words(\"english\")\n",
    "stemmer = SnowballStemmer(\"english\")"
   ]
  },
  {
   "cell_type": "code",
   "execution_count": 27,
   "id": "3b02e33c",
   "metadata": {},
   "outputs": [],
   "source": [
    "def preprocess(text, stem=False):\n",
    "    # Remove link,user and special characters\n",
    "    text = re.sub(TEXT_CLEANING_RE, ' ', str(text).lower()).strip()\n",
    "    tokens = []\n",
    "    for token in text.split():\n",
    "        if token not in stop_words:\n",
    "            if stem:\n",
    "                tokens.append(stemmer.stem(token))\n",
    "            else:\n",
    "                tokens.append(token)\n",
    "    return \" \".join(tokens)"
   ]
  },
  {
   "cell_type": "code",
   "execution_count": 28,
   "id": "66a9d70c",
   "metadata": {},
   "outputs": [
    {
     "name": "stdout",
     "output_type": "stream",
     "text": [
      "CPU times: user 1.89 s, sys: 44.1 ms, total: 1.93 s\n",
      "Wall time: 1.9 s\n"
     ]
    }
   ],
   "source": [
    "%%time\n",
    "df.text = df.text.apply(lambda x: preprocess(x))"
   ]
  },
  {
   "cell_type": "code",
   "execution_count": 29,
   "id": "6245571f",
   "metadata": {},
   "outputs": [
    {
     "name": "stdout",
     "output_type": "stream",
     "text": [
      "TRAIN size: 128000\n",
      "TEST size: 32000\n"
     ]
    }
   ],
   "source": [
    "#Split train and test\n",
    "df_train, df_test = train_test_split(df, test_size=1-TRAIN_SIZE, random_state=42)\n",
    "print(\"TRAIN size:\", len(df_train))\n",
    "print(\"TEST size:\", len(df_test))"
   ]
  },
  {
   "cell_type": "code",
   "execution_count": 30,
   "id": "c72ec67f",
   "metadata": {},
   "outputs": [
    {
     "name": "stdout",
     "output_type": "stream",
     "text": [
      "CPU times: user 148 ms, sys: 16.3 ms, total: 165 ms\n",
      "Wall time: 168 ms\n"
     ]
    }
   ],
   "source": [
    "%%time\n",
    "documents = [_text.split() for _text in df_train.text] "
   ]
  },
  {
   "cell_type": "code",
   "execution_count": 31,
   "id": "e40e1409",
   "metadata": {},
   "outputs": [
    {
     "name": "stderr",
     "output_type": "stream",
     "text": [
      "2023-11-20 16:11:31,203 : INFO : Word2Vec lifecycle event {'params': 'Word2Vec<vocab=0, vector_size=100, alpha=0.025>', 'datetime': '2023-11-20T16:11:31.203317', 'gensim': '4.3.0', 'python': '3.11.4 (main, Jul  5 2023, 08:54:11) [Clang 14.0.6 ]', 'platform': 'macOS-13.3-arm64-arm-64bit', 'event': 'created'}\n"
     ]
    }
   ],
   "source": [
    "from gensim.models import Word2Vec\n",
    "\n",
    "# Define your hyperparameters\n",
    "W2V_SIZE = 100\n",
    "W2V_WINDOW = 5\n",
    "W2V_MIN_COUNT = 1\n",
    "\n",
    "# Initialize the Word2Vec model\n",
    "w2v_model = Word2Vec(vector_size=W2V_SIZE, \n",
    "                    window=W2V_WINDOW, \n",
    "                    min_count=W2V_MIN_COUNT, \n",
    "                    workers=8)"
   ]
  },
  {
   "cell_type": "code",
   "execution_count": 32,
   "id": "f4876cb8",
   "metadata": {},
   "outputs": [
    {
     "name": "stderr",
     "output_type": "stream",
     "text": [
      "2023-11-20 16:11:31,205 : INFO : collecting all words and their counts\n",
      "2023-11-20 16:11:31,206 : INFO : PROGRESS: at sentence #0, processed 0 words, keeping 0 word types\n",
      "2023-11-20 16:11:31,213 : INFO : PROGRESS: at sentence #10000, processed 71590 words, keeping 13861 word types\n",
      "2023-11-20 16:11:31,220 : INFO : PROGRESS: at sentence #20000, processed 143892 words, keeping 21396 word types\n",
      "2023-11-20 16:11:31,227 : INFO : PROGRESS: at sentence #30000, processed 216288 words, keeping 27492 word types\n",
      "2023-11-20 16:11:31,234 : INFO : PROGRESS: at sentence #40000, processed 288618 words, keeping 32874 word types\n",
      "2023-11-20 16:11:31,241 : INFO : PROGRESS: at sentence #50000, processed 360393 words, keeping 37717 word types\n",
      "2023-11-20 16:11:31,248 : INFO : PROGRESS: at sentence #60000, processed 433168 words, keeping 42366 word types\n",
      "2023-11-20 16:11:31,255 : INFO : PROGRESS: at sentence #70000, processed 504666 words, keeping 46531 word types\n",
      "2023-11-20 16:11:31,263 : INFO : PROGRESS: at sentence #80000, processed 577057 words, keeping 50473 word types\n",
      "2023-11-20 16:11:31,269 : INFO : PROGRESS: at sentence #90000, processed 649973 words, keeping 54306 word types\n",
      "2023-11-20 16:11:31,277 : INFO : PROGRESS: at sentence #100000, processed 721487 words, keeping 57970 word types\n",
      "2023-11-20 16:11:31,283 : INFO : PROGRESS: at sentence #110000, processed 793097 words, keeping 61379 word types\n",
      "2023-11-20 16:11:31,291 : INFO : PROGRESS: at sentence #120000, processed 865563 words, keeping 64957 word types\n",
      "2023-11-20 16:11:31,297 : INFO : collected 67703 word types from a corpus of 924127 raw words and 128000 sentences\n",
      "2023-11-20 16:11:31,297 : INFO : Creating a fresh vocabulary\n",
      "2023-11-20 16:11:31,387 : INFO : Word2Vec lifecycle event {'msg': 'effective_min_count=1 retains 67703 unique words (100.00% of original 67703, drops 0)', 'datetime': '2023-11-20T16:11:31.387562', 'gensim': '4.3.0', 'python': '3.11.4 (main, Jul  5 2023, 08:54:11) [Clang 14.0.6 ]', 'platform': 'macOS-13.3-arm64-arm-64bit', 'event': 'prepare_vocab'}\n",
      "2023-11-20 16:11:31,387 : INFO : Word2Vec lifecycle event {'msg': 'effective_min_count=1 leaves 924127 word corpus (100.00% of original 924127, drops 0)', 'datetime': '2023-11-20T16:11:31.387948', 'gensim': '4.3.0', 'python': '3.11.4 (main, Jul  5 2023, 08:54:11) [Clang 14.0.6 ]', 'platform': 'macOS-13.3-arm64-arm-64bit', 'event': 'prepare_vocab'}\n",
      "2023-11-20 16:11:31,490 : INFO : deleting the raw counts dictionary of 67703 items\n",
      "2023-11-20 16:11:31,491 : INFO : sample=0.001 downsamples 42 most-common words\n",
      "2023-11-20 16:11:31,491 : INFO : Word2Vec lifecycle event {'msg': 'downsampling leaves estimated 872245.5609020373 word corpus (94.4%% of prior 924127)', 'datetime': '2023-11-20T16:11:31.491769', 'gensim': '4.3.0', 'python': '3.11.4 (main, Jul  5 2023, 08:54:11) [Clang 14.0.6 ]', 'platform': 'macOS-13.3-arm64-arm-64bit', 'event': 'prepare_vocab'}\n",
      "2023-11-20 16:11:31,663 : INFO : estimated required memory for 67703 words and 100 dimensions: 88013900 bytes\n",
      "2023-11-20 16:11:31,664 : INFO : resetting layer weights\n",
      "2023-11-20 16:11:31,684 : INFO : Word2Vec lifecycle event {'update': False, 'trim_rule': 'None', 'datetime': '2023-11-20T16:11:31.684607', 'gensim': '4.3.0', 'python': '3.11.4 (main, Jul  5 2023, 08:54:11) [Clang 14.0.6 ]', 'platform': 'macOS-13.3-arm64-arm-64bit', 'event': 'build_vocab'}\n"
     ]
    }
   ],
   "source": [
    "w2v_model.build_vocab(documents)"
   ]
  },
  {
   "cell_type": "code",
   "execution_count": 33,
   "id": "38b46ef9",
   "metadata": {},
   "outputs": [
    {
     "name": "stdout",
     "output_type": "stream",
     "text": [
      "Vocab size: 67703\n"
     ]
    }
   ],
   "source": [
    "words = list(w2v_model.wv.key_to_index.keys())\n",
    "vocab_size = len(words)\n",
    "print(\"Vocab size:\", vocab_size)"
   ]
  },
  {
   "cell_type": "code",
   "execution_count": 34,
   "id": "6e033920",
   "metadata": {},
   "outputs": [
    {
     "name": "stderr",
     "output_type": "stream",
     "text": [
      "2023-11-20 16:11:31,692 : INFO : Word2Vec lifecycle event {'msg': 'training model with 8 workers on 67703 vocabulary and 100 features, using sg=0 hs=0 sample=0.001 negative=5 window=5 shrink_windows=True', 'datetime': '2023-11-20T16:11:31.692710', 'gensim': '4.3.0', 'python': '3.11.4 (main, Jul  5 2023, 08:54:11) [Clang 14.0.6 ]', 'platform': 'macOS-13.3-arm64-arm-64bit', 'event': 'train'}\n",
      "2023-11-20 16:11:31,974 : INFO : EPOCH 0: training on 924127 raw words (872143 effective words) took 0.3s, 3207531 effective words/s\n",
      "2023-11-20 16:11:32,244 : INFO : EPOCH 1: training on 924127 raw words (871940 effective words) took 0.3s, 3322704 effective words/s\n",
      "2023-11-20 16:11:32,508 : INFO : EPOCH 2: training on 924127 raw words (871982 effective words) took 0.3s, 3414327 effective words/s\n",
      "2023-11-20 16:11:32,765 : INFO : EPOCH 3: training on 924127 raw words (872645 effective words) took 0.2s, 3502966 effective words/s\n",
      "2023-11-20 16:11:33,027 : INFO : EPOCH 4: training on 924127 raw words (872576 effective words) took 0.3s, 3428515 effective words/s\n",
      "2023-11-20 16:11:33,288 : INFO : EPOCH 5: training on 924127 raw words (872366 effective words) took 0.3s, 3438538 effective words/s\n",
      "2023-11-20 16:11:33,558 : INFO : EPOCH 6: training on 924127 raw words (872083 effective words) took 0.3s, 3335265 effective words/s\n",
      "2023-11-20 16:11:33,833 : INFO : EPOCH 7: training on 924127 raw words (872141 effective words) took 0.3s, 3266994 effective words/s\n",
      "2023-11-20 16:11:34,114 : INFO : EPOCH 8: training on 924127 raw words (872190 effective words) took 0.3s, 3209389 effective words/s\n",
      "2023-11-20 16:11:34,395 : INFO : EPOCH 9: training on 924127 raw words (872231 effective words) took 0.3s, 3202431 effective words/s\n",
      "2023-11-20 16:11:34,656 : INFO : EPOCH 10: training on 924127 raw words (872223 effective words) took 0.3s, 3462950 effective words/s\n",
      "2023-11-20 16:11:34,928 : INFO : EPOCH 11: training on 924127 raw words (872175 effective words) took 0.3s, 3282917 effective words/s\n",
      "2023-11-20 16:11:35,198 : INFO : EPOCH 12: training on 924127 raw words (872211 effective words) took 0.3s, 3332337 effective words/s\n",
      "2023-11-20 16:11:35,475 : INFO : EPOCH 13: training on 924127 raw words (872055 effective words) took 0.3s, 3236231 effective words/s\n",
      "2023-11-20 16:11:35,748 : INFO : EPOCH 14: training on 924127 raw words (872371 effective words) took 0.3s, 3286094 effective words/s\n",
      "2023-11-20 16:11:36,022 : INFO : EPOCH 15: training on 924127 raw words (871989 effective words) took 0.3s, 3274016 effective words/s\n",
      "2023-11-20 16:11:36,299 : INFO : EPOCH 16: training on 924127 raw words (872322 effective words) took 0.3s, 3253077 effective words/s\n",
      "2023-11-20 16:11:36,572 : INFO : EPOCH 17: training on 924127 raw words (872338 effective words) took 0.3s, 3302306 effective words/s\n",
      "2023-11-20 16:11:36,849 : INFO : EPOCH 18: training on 924127 raw words (871987 effective words) took 0.3s, 3243984 effective words/s\n",
      "2023-11-20 16:11:37,107 : INFO : EPOCH 19: training on 924127 raw words (872307 effective words) took 0.3s, 3483438 effective words/s\n",
      "2023-11-20 16:11:37,375 : INFO : EPOCH 20: training on 924127 raw words (872082 effective words) took 0.3s, 3338854 effective words/s\n",
      "2023-11-20 16:11:37,655 : INFO : EPOCH 21: training on 924127 raw words (872388 effective words) took 0.3s, 3214836 effective words/s\n",
      "2023-11-20 16:11:37,923 : INFO : EPOCH 22: training on 924127 raw words (871841 effective words) took 0.3s, 3361180 effective words/s\n",
      "2023-11-20 16:11:38,191 : INFO : EPOCH 23: training on 924127 raw words (872591 effective words) took 0.3s, 3354093 effective words/s\n",
      "2023-11-20 16:11:38,467 : INFO : EPOCH 24: training on 924127 raw words (872387 effective words) took 0.3s, 3251918 effective words/s\n",
      "2023-11-20 16:11:38,736 : INFO : EPOCH 25: training on 924127 raw words (872380 effective words) took 0.3s, 3356551 effective words/s\n",
      "2023-11-20 16:11:39,000 : INFO : EPOCH 26: training on 924127 raw words (872457 effective words) took 0.3s, 3410019 effective words/s\n",
      "2023-11-20 16:11:39,277 : INFO : EPOCH 27: training on 924127 raw words (872196 effective words) took 0.3s, 3231962 effective words/s\n",
      "2023-11-20 16:11:39,541 : INFO : EPOCH 28: training on 924127 raw words (872220 effective words) took 0.3s, 3396063 effective words/s\n",
      "2023-11-20 16:11:39,804 : INFO : EPOCH 29: training on 924127 raw words (872164 effective words) took 0.3s, 3427878 effective words/s\n",
      "2023-11-20 16:11:40,063 : INFO : EPOCH 30: training on 924127 raw words (872385 effective words) took 0.3s, 3464421 effective words/s\n",
      "2023-11-20 16:11:40,325 : INFO : EPOCH 31: training on 924127 raw words (871998 effective words) took 0.3s, 3444030 effective words/s\n",
      "2023-11-20 16:11:40,325 : INFO : Word2Vec lifecycle event {'msg': 'training on 29572064 raw words (27911364 effective words) took 8.6s, 3233282 effective words/s', 'datetime': '2023-11-20T16:11:40.325685', 'gensim': '4.3.0', 'python': '3.11.4 (main, Jul  5 2023, 08:54:11) [Clang 14.0.6 ]', 'platform': 'macOS-13.3-arm64-arm-64bit', 'event': 'train'}\n"
     ]
    },
    {
     "name": "stdout",
     "output_type": "stream",
     "text": [
      "CPU times: user 38.1 s, sys: 391 ms, total: 38.5 s\n",
      "Wall time: 8.63 s\n"
     ]
    },
    {
     "data": {
      "text/plain": [
       "(27911364, 29572064)"
      ]
     },
     "execution_count": 34,
     "metadata": {},
     "output_type": "execute_result"
    }
   ],
   "source": [
    "%%time\n",
    "w2v_model.train(documents, total_examples=len(documents), epochs=W2V_EPOCH)"
   ]
  },
  {
   "cell_type": "code",
   "execution_count": 35,
   "id": "15b38b82",
   "metadata": {},
   "outputs": [
    {
     "name": "stdout",
     "output_type": "stream",
     "text": [
      "[('luv', 0.5117961168289185), ('loves', 0.4890754520893097), ('tfp', 0.4411761164665222), ('selena', 0.42257967591285706), ('single', 0.4086487293243408), ('immediatly', 0.4073946177959442), ('lov', 0.4046597182750702), ('awesome', 0.3979400396347046), ('andremulas', 0.395564466714859), ('ubderstandable', 0.38997384905815125)]\n"
     ]
    }
   ],
   "source": [
    "from gensim.models import Word2Vec\n",
    "\n",
    "# Assuming 'w2v_model' is a valid Word2Vec model\n",
    "# If not, make sure to load your Word2Vec model properly\n",
    "\n",
    "# Check if the model has the 'most_similar' method\n",
    "if hasattr(w2v_model, 'wv') and hasattr(w2v_model.wv, 'most_similar'):\n",
    "    similar_words = w2v_model.wv.most_similar(\"love\")\n",
    "    print(similar_words)\n",
    "else:\n",
    "    print(\"The model does not have the 'most_similar' method.\")\n"
   ]
  },
  {
   "cell_type": "code",
   "execution_count": 36,
   "id": "ed58bb25",
   "metadata": {},
   "outputs": [
    {
     "name": "stdout",
     "output_type": "stream",
     "text": [
      "Total words 67704\n",
      "CPU times: user 1.51 s, sys: 774 ms, total: 2.29 s\n",
      "Wall time: 704 ms\n"
     ]
    }
   ],
   "source": [
    "%%time\n",
    "tokenizer = Tokenizer()\n",
    "tokenizer.fit_on_texts(df_train.text)\n",
    "\n",
    "vocab_size = len(tokenizer.word_index) + 1\n",
    "print(\"Total words\", vocab_size)"
   ]
  },
  {
   "cell_type": "code",
   "execution_count": 37,
   "id": "1b0ff630",
   "metadata": {},
   "outputs": [
    {
     "name": "stdout",
     "output_type": "stream",
     "text": [
      "CPU times: user 756 ms, sys: 20.4 ms, total: 776 ms\n",
      "Wall time: 775 ms\n"
     ]
    }
   ],
   "source": [
    "%%time\n",
    "x_train = pad_sequences(tokenizer.texts_to_sequences(df_train.text), maxlen=SEQUENCE_LENGTH)\n",
    "x_test = pad_sequences(tokenizer.texts_to_sequences(df_test.text), maxlen=SEQUENCE_LENGTH)"
   ]
  },
  {
   "cell_type": "code",
   "execution_count": 38,
   "id": "249120f3",
   "metadata": {},
   "outputs": [
    {
     "data": {
      "text/plain": [
       "['NEGATIVE', 'POSITIVE', 'NEUTRAL']"
      ]
     },
     "execution_count": 38,
     "metadata": {},
     "output_type": "execute_result"
    }
   ],
   "source": [
    "#Label Encoder\n",
    "labels = df_train.target.unique().tolist()\n",
    "labels.append(NEUTRAL)\n",
    "labels"
   ]
  },
  {
   "cell_type": "code",
   "execution_count": 39,
   "id": "1037299b",
   "metadata": {},
   "outputs": [
    {
     "name": "stdout",
     "output_type": "stream",
     "text": [
      "y_train (128000, 1)\n",
      "y_test (32000, 1)\n"
     ]
    }
   ],
   "source": [
    "encoder = LabelEncoder()\n",
    "encoder.fit(df_train.target.tolist())\n",
    "\n",
    "y_train = encoder.transform(df_train.target.tolist())\n",
    "y_test = encoder.transform(df_test.target.tolist())\n",
    "\n",
    "y_train = y_train.reshape(-1,1)\n",
    "y_test = y_test.reshape(-1,1)\n",
    "\n",
    "print(\"y_train\",y_train.shape)\n",
    "print(\"y_test\",y_test.shape)"
   ]
  },
  {
   "cell_type": "code",
   "execution_count": 40,
   "id": "5a84eef3",
   "metadata": {},
   "outputs": [
    {
     "name": "stdout",
     "output_type": "stream",
     "text": [
      "x_train (128000, 300)\n",
      "y_train (128000, 1)\n",
      "\n",
      "x_test (32000, 300)\n",
      "y_test (32000, 1)\n"
     ]
    }
   ],
   "source": [
    "print(\"x_train\", x_train.shape)\n",
    "print(\"y_train\", y_train.shape)\n",
    "print()\n",
    "print(\"x_test\", x_test.shape)\n",
    "print(\"y_test\", y_test.shape)"
   ]
  },
  {
   "cell_type": "code",
   "execution_count": 41,
   "id": "abc7bccb",
   "metadata": {},
   "outputs": [
    {
     "data": {
      "text/plain": [
       "array([[0],\n",
       "       [1],\n",
       "       [0],\n",
       "       [1],\n",
       "       [0],\n",
       "       [1],\n",
       "       [0],\n",
       "       [0],\n",
       "       [0],\n",
       "       [0]])"
      ]
     },
     "execution_count": 41,
     "metadata": {},
     "output_type": "execute_result"
    }
   ],
   "source": [
    "y_train[:10]"
   ]
  },
  {
   "cell_type": "code",
   "execution_count": 42,
   "id": "e58d82c4",
   "metadata": {},
   "outputs": [
    {
     "name": "stdout",
     "output_type": "stream",
     "text": [
      "(67704, 100)\n"
     ]
    }
   ],
   "source": [
    "#Embedding layer\n",
    "embedding_matrix = np.zeros((vocab_size, W2V_SIZE))\n",
    "for word, i in tokenizer.word_index.items():\n",
    "  if word in w2v_model.wv:\n",
    "    embedding_matrix[i] = w2v_model.wv[word]\n",
    "print(embedding_matrix.shape)"
   ]
  },
  {
   "cell_type": "code",
   "execution_count": 43,
   "id": "3c1a4d79",
   "metadata": {},
   "outputs": [],
   "source": [
    "embedding_layer = Embedding(vocab_size, W2V_SIZE, weights=[embedding_matrix], input_length=SEQUENCE_LENGTH, trainable=False)"
   ]
  },
  {
   "cell_type": "code",
   "execution_count": 44,
   "id": "833c0f3e",
   "metadata": {},
   "outputs": [
    {
     "name": "stdout",
     "output_type": "stream",
     "text": [
      "Model: \"sequential\"\n",
      "_________________________________________________________________\n",
      " Layer (type)                Output Shape              Param #   \n",
      "=================================================================\n",
      " embedding (Embedding)       (None, 300, 100)          6770400   \n",
      "                                                                 \n",
      " dropout (Dropout)           (None, 300, 100)          0         \n",
      "                                                                 \n",
      " lstm (LSTM)                 (None, 100)               80400     \n",
      "                                                                 \n",
      " dense (Dense)               (None, 1)                 101       \n",
      "                                                                 \n",
      "=================================================================\n",
      "Total params: 6850901 (26.13 MB)\n",
      "Trainable params: 80501 (314.46 KB)\n",
      "Non-trainable params: 6770400 (25.83 MB)\n",
      "_________________________________________________________________\n"
     ]
    }
   ],
   "source": [
    "#Build Model\n",
    "model = Sequential()\n",
    "model.add(embedding_layer)\n",
    "model.add(Dropout(0.5))\n",
    "model.add(LSTM(100, dropout=0.2, recurrent_dropout=0.2))\n",
    "model.add(Dense(1, activation='sigmoid'))\n",
    "\n",
    "model.summary()"
   ]
  },
  {
   "cell_type": "code",
   "execution_count": 45,
   "id": "771e0fce",
   "metadata": {},
   "outputs": [],
   "source": [
    "#Compile model\n",
    "model.compile(loss='binary_crossentropy',\n",
    "              optimizer=\"adam\",\n",
    "              metrics=['accuracy'])"
   ]
  },
  {
   "cell_type": "code",
   "execution_count": 46,
   "id": "f8993926",
   "metadata": {},
   "outputs": [],
   "source": [
    "#Callbacks\n",
    "callbacks = [ ReduceLROnPlateau(monitor='val_loss', patience=5, cooldown=0),\n",
    "              EarlyStopping(monitor='val_acc', min_delta=1e-4, patience=5)]"
   ]
  },
  {
   "cell_type": "code",
   "execution_count": 47,
   "id": "220cbca1",
   "metadata": {},
   "outputs": [
    {
     "name": "stdout",
     "output_type": "stream",
     "text": [
      "Epoch 1/2\n",
      "113/113 [==============================] - ETA: 0s - loss: 0.5941 - accuracy: 0.6786"
     ]
    },
    {
     "name": "stderr",
     "output_type": "stream",
     "text": [
      "2023-11-20 16:15:33,000 : WARNING : Early stopping conditioned on metric `val_acc` which is not available. Available metrics are: loss,accuracy,val_loss,val_accuracy,lr\n"
     ]
    },
    {
     "name": "stdout",
     "output_type": "stream",
     "text": [
      "113/113 [==============================] - 231s 2s/step - loss: 0.5941 - accuracy: 0.6786 - val_loss: 0.5248 - val_accuracy: 0.7371 - lr: 0.0010\n",
      "Epoch 2/2\n",
      "113/113 [==============================] - ETA: 0s - loss: 0.5583 - accuracy: 0.7117"
     ]
    },
    {
     "name": "stderr",
     "output_type": "stream",
     "text": [
      "2023-11-20 16:19:58,603 : WARNING : Early stopping conditioned on metric `val_acc` which is not available. Available metrics are: loss,accuracy,val_loss,val_accuracy,lr\n"
     ]
    },
    {
     "name": "stdout",
     "output_type": "stream",
     "text": [
      "113/113 [==============================] - 266s 2s/step - loss: 0.5583 - accuracy: 0.7117 - val_loss: 0.5114 - val_accuracy: 0.7490 - lr: 0.0010\n",
      "CPU times: user 18min 19s, sys: 9min 14s, total: 27min 34s\n",
      "Wall time: 8min 16s\n"
     ]
    }
   ],
   "source": [
    "%%time\n",
    "history = model.fit(x_train, y_train,\n",
    "                    batch_size=BATCH_SIZE,\n",
    "                    epochs=2,\n",
    "                    validation_split=0.1,\n",
    "                    verbose=1,\n",
    "                    callbacks=callbacks)"
   ]
  },
  {
   "cell_type": "code",
   "execution_count": 48,
   "id": "299b1596",
   "metadata": {},
   "outputs": [
    {
     "name": "stdout",
     "output_type": "stream",
     "text": [
      "32/32 [==============================] - 14s 431ms/step - loss: 0.5059 - accuracy: 0.7495\n",
      "\n",
      "ACCURACY: 0.7494687438011169\n",
      "LOSS: 0.5059211850166321\n",
      "CPU times: user 37.1 s, sys: 10.6 s, total: 47.7 s\n",
      "Wall time: 13.8 s\n"
     ]
    }
   ],
   "source": [
    "%%time\n",
    "score = model.evaluate(x_test, y_test, batch_size=BATCH_SIZE)\n",
    "print()\n",
    "print(\"ACCURACY:\",score[1])\n",
    "print(\"LOSS:\",score[0])"
   ]
  },
  {
   "cell_type": "code",
   "execution_count": 49,
   "id": "a9acf50e",
   "metadata": {},
   "outputs": [
    {
     "data": {
      "image/png": "[encoded data removed]",
      "text/plain": [
       "<Figure size 640x480 with 1 Axes>"
      ]
     },
     "metadata": {},
     "output_type": "display_data"
    },
    {
     "data": {
      "image/png": "[encoded data removed]",
      "text/plain": [
       "<Figure size 640x480 with 1 Axes>"
      ]
     },
     "metadata": {},
     "output_type": "display_data"
    }
   ],
   "source": [
    "acc = history.history['accuracy']\n",
    "val_acc = history.history['val_accuracy']\n",
    "loss = history.history['loss']\n",
    "val_loss = history.history['val_loss']\n",
    " \n",
    "epochs = range(len(acc))\n",
    " \n",
    "plt.plot(epochs, acc, 'b', label='Training acc')\n",
    "plt.plot(epochs, val_acc, 'r', label='Validation acc')\n",
    "plt.title('Training and validation accuracy')\n",
    "plt.legend()\n",
    " \n",
    "plt.figure()\n",
    " \n",
    "plt.plot(epochs, loss, 'b', label='Training loss')\n",
    "plt.plot(epochs, val_loss, 'r', label='Validation loss')\n",
    "plt.title('Training and validation loss')\n",
    "plt.legend()\n",
    " \n",
    "plt.show()"
   ]
  },
  {
   "cell_type": "code",
   "execution_count": 50,
   "id": "e336b279",
   "metadata": {},
   "outputs": [],
   "source": [
    "#predict\n",
    "\n",
    "def decode_sentiment(score, include_neutral=True):\n",
    "    if include_neutral:        \n",
    "        label = NEUTRAL\n",
    "        if score <= SENTIMENT_THRESHOLDS[0]:\n",
    "            label = NEGATIVE\n",
    "        elif score >= SENTIMENT_THRESHOLDS[1]:\n",
    "            label = POSITIVE\n",
    "\n",
    "        return label\n",
    "    else:\n",
    "        return NEGATIVE if score < 0.5 else POSITIVE"
   ]
  },
  {
   "cell_type": "code",
   "execution_count": 51,
   "id": "8bfca1e7",
   "metadata": {},
   "outputs": [],
   "source": [
    "def predict(text, include_neutral=True):\n",
    "    start_at = time.time()\n",
    "    # Tokenize text\n",
    "    x_test = pad_sequences(tokenizer.texts_to_sequences([text]), maxlen=SEQUENCE_LENGTH)\n",
    "    # Predict\n",
    "    score = model.predict([x_test])[0]\n",
    "    # Decode sentiment\n",
    "    label = decode_sentiment(score, include_neutral=include_neutral)\n",
    "\n",
    "    return {\"label\": label, \"score\": float(score),\n",
    "       \"elapsed_time\": time.time()-start_at}  "
   ]
  },
  {
   "cell_type": "code",
   "execution_count": 52,
   "id": "5e58c5b4",
   "metadata": {},
   "outputs": [
    {
     "name": "stdout",
     "output_type": "stream",
     "text": [
      "1/1 [==============================] - 0s 116ms/step\n"
     ]
    },
    {
     "data": {
      "text/plain": [
       "{'label': 'POSITIVE',\n",
       " 'score': 0.9206539988517761,\n",
       " 'elapsed_time': 0.13188600540161133}"
      ]
     },
     "execution_count": 52,
     "metadata": {},
     "output_type": "execute_result"
    }
   ],
   "source": [
    "predict(\"I love the music\")"
   ]
  },
  {
   "cell_type": "code",
   "execution_count": 53,
   "id": "e7ee9cd7",
   "metadata": {},
   "outputs": [
    {
     "name": "stdout",
     "output_type": "stream",
     "text": [
      "1/1 [==============================] - 0s 22ms/step\n"
     ]
    },
    {
     "data": {
      "text/plain": [
       "{'label': 'NEGATIVE',\n",
       " 'score': 0.0369025319814682,\n",
       " 'elapsed_time': 0.032367706298828125}"
      ]
     },
     "execution_count": 53,
     "metadata": {},
     "output_type": "execute_result"
    }
   ],
   "source": [
    "predict(\"I hate the rain\")"
   ]
  },
  {
   "cell_type": "code",
   "execution_count": 54,
   "id": "3e07305d",
   "metadata": {},
   "outputs": [
    {
     "name": "stdout",
     "output_type": "stream",
     "text": [
      "1/1 [==============================] - 0s 23ms/step\n"
     ]
    },
    {
     "data": {
      "text/plain": [
       "{'label': 'NEUTRAL',\n",
       " 'score': 0.5958064794540405,\n",
       " 'elapsed_time': 0.034928083419799805}"
      ]
     },
     "execution_count": 54,
     "metadata": {},
     "output_type": "execute_result"
    }
   ],
   "source": [
    "predict(\"i don't know what i'm doing\")"
   ]
  },
  {
   "cell_type": "code",
   "execution_count": 55,
   "id": "bc76e244",
   "metadata": {},
   "outputs": [
    {
     "name": "stdout",
     "output_type": "stream",
     "text": [
      "1/1 [==============================] - 0s 18ms/step\n"
     ]
    },
    {
     "data": {
      "text/plain": [
       "{'label': 'POSITIVE',\n",
       " 'score': 0.9260262846946716,\n",
       " 'elapsed_time': 0.02850484848022461}"
      ]
     },
     "execution_count": 55,
     "metadata": {},
     "output_type": "execute_result"
    }
   ],
   "source": [
    "predict(\"i am great\")"
   ]
  },
  {
   "cell_type": "code",
   "execution_count": 56,
   "id": "5ccc1a00",
   "metadata": {},
   "outputs": [
    {
     "name": "stdout",
     "output_type": "stream",
     "text": [
      "1/1 [==============================] - 0s 19ms/step\n"
     ]
    },
    {
     "data": {
      "text/plain": [
       "{'label': 'NEUTRAL',\n",
       " 'score': 0.64421546459198,\n",
       " 'elapsed_time': 0.029802799224853516}"
      ]
     },
     "execution_count": 56,
     "metadata": {},
     "output_type": "execute_result"
    }
   ],
   "source": [
    "predict(\"can I get a coffee please?\")"
   ]
  },
  {
   "cell_type": "code",
   "execution_count": 57,
   "id": "e81778db",
   "metadata": {},
   "outputs": [
    {
     "name": "stdout",
     "output_type": "stream",
     "text": [
      "1/1 [==============================] - 0s 20ms/step\n"
     ]
    },
    {
     "data": {
      "text/plain": [
       "{'label': 'NEUTRAL',\n",
       " 'score': 0.6133173108100891,\n",
       " 'elapsed_time': 0.031167984008789062}"
      ]
     },
     "execution_count": 57,
     "metadata": {},
     "output_type": "execute_result"
    }
   ],
   "source": [
    "predict(\"okay\")"
   ]
  },
  {
   "cell_type": "code",
   "execution_count": 58,
   "id": "d9158382",
   "metadata": {},
   "outputs": [
    {
     "name": "stdout",
     "output_type": "stream",
     "text": [
      "1/1 [==============================] - 0s 18ms/step\n"
     ]
    },
    {
     "data": {
      "text/plain": [
       "{'label': 'POSITIVE',\n",
       " 'score': 0.7788771986961365,\n",
       " 'elapsed_time': 0.029169082641601562}"
      ]
     },
     "execution_count": 58,
     "metadata": {},
     "output_type": "execute_result"
    }
   ],
   "source": [
    "predict(\"She is a very famous poet.\")"
   ]
  },
  {
   "cell_type": "code",
   "execution_count": 68,
   "id": "32dfab5b",
   "metadata": {},
   "outputs": [
    {
     "name": "stdout",
     "output_type": "stream",
     "text": [
      "1/1 [==============================] - 0s 29ms/step\n"
     ]
    },
    {
     "data": {
      "text/plain": [
       "{'label': 'NEUTRAL',\n",
       " 'score': 0.6942625641822815,\n",
       " 'elapsed_time': 0.057975053787231445}"
      ]
     },
     "execution_count": 68,
     "metadata": {},
     "output_type": "execute_result"
    }
   ],
   "source": [
    "predict(\"I am fine, it okay\")"
   ]
  },
  {
   "cell_type": "code",
   "execution_count": null,
   "id": "aac498b0",
   "metadata": {},
   "outputs": [],
   "source": [
    "predict(\"She was crying the other night\")"
   ]
  },
  {
   "cell_type": "code",
   "execution_count": 69,
   "id": "8b4221fe",
   "metadata": {},
   "outputs": [
    {
     "name": "stdout",
     "output_type": "stream",
     "text": [
      "1/1 [==============================] - 0s 27ms/step\n"
     ]
    },
    {
     "data": {
      "text/plain": [
       "{'label': 'POSITIVE',\n",
       " 'score': 0.907697319984436,\n",
       " 'elapsed_time': 0.05856490135192871}"
      ]
     },
     "execution_count": 69,
     "metadata": {},
     "output_type": "execute_result"
    }
   ],
   "source": [
    "predict(\"I am very happy.\")"
   ]
  },
  {
   "cell_type": "code",
   "execution_count": 70,
   "id": "524b79e7",
   "metadata": {},
   "outputs": [
    {
     "name": "stdout",
     "output_type": "stream",
     "text": [
      "1/1 [==============================] - 0s 32ms/step\n"
     ]
    },
    {
     "data": {
      "text/plain": [
       "{'label': 'NEUTRAL',\n",
       " 'score': 0.5775372982025146,\n",
       " 'elapsed_time': 0.061428070068359375}"
      ]
     },
     "execution_count": 70,
     "metadata": {},
     "output_type": "execute_result"
    }
   ],
   "source": [
    "predict(\"I have no idea\")"
   ]
  },
  {
   "cell_type": "code",
   "execution_count": 59,
   "id": "d61b839e",
   "metadata": {},
   "outputs": [],
   "source": [
    "#Confusion Matrix"
   ]
  },
  {
   "cell_type": "code",
   "execution_count": 60,
   "id": "323fb1f4",
   "metadata": {},
   "outputs": [
    {
     "name": "stdout",
     "output_type": "stream",
     "text": [
      "4/4 [==============================] - 7s 2s/step\n",
      "CPU times: user 40.5 s, sys: 5.68 s, total: 46.2 s\n",
      "Wall time: 7.35 s\n"
     ]
    }
   ],
   "source": [
    "%%time\n",
    "y_pred_1d = []\n",
    "y_test_1d = list(df_test.target)\n",
    "scores = model.predict(x_test, verbose=1, batch_size=8000)\n",
    "y_pred_1d = [decode_sentiment(score, include_neutral=False) for score in scores]"
   ]
  },
  {
   "cell_type": "code",
   "execution_count": 61,
   "id": "3a536194",
   "metadata": {},
   "outputs": [],
   "source": [
    "def plot_confusion_matrix(cm, classes,\n",
    "                          title='Confusion matrix',\n",
    "                          cmap=plt.cm.Blues):\n",
    "    \"\"\"\n",
    "    This function prints and plots the confusion matrix.\n",
    "    Normalization can be applied by setting `normalize=True`.\n",
    "    \"\"\"\n",
    "\n",
    "    cm = cm.astype('float') / cm.sum(axis=1)[:, np.newaxis]\n",
    "\n",
    "    plt.imshow(cm, interpolation='nearest', cmap=cmap)\n",
    "    plt.title(title, fontsize=30)\n",
    "    plt.colorbar()\n",
    "    tick_marks = np.arange(len(classes))\n",
    "    plt.xticks(tick_marks, classes, rotation=90, fontsize=22)\n",
    "    plt.yticks(tick_marks, classes, fontsize=22)\n",
    "\n",
    "    fmt = '.2f'\n",
    "    thresh = cm.max() / 2.\n",
    "    for i, j in itertools.product(range(cm.shape[0]), range(cm.shape[1])):\n",
    "        plt.text(j, i, format(cm[i, j], fmt),\n",
    "                 horizontalalignment=\"center\",\n",
    "                 color=\"white\" if cm[i, j] > thresh else \"black\")\n",
    "\n",
    "    plt.ylabel('True label', fontsize=25)\n",
    "    plt.xlabel('Predicted label', fontsize=25)"
   ]
  },
  {
   "cell_type": "code",
   "execution_count": 62,
   "id": "54fee733",
   "metadata": {},
   "outputs": [
    {
     "data": {
      "image/png": "[encoded data removed]",
      "text/plain": [
       "<Figure size 800x800 with 2 Axes>"
      ]
     },
     "metadata": {},
     "output_type": "display_data"
    },
    {
     "name": "stdout",
     "output_type": "stream",
     "text": [
      "CPU times: user 232 ms, sys: 18.6 ms, total: 251 ms\n",
      "Wall time: 136 ms\n"
     ]
    }
   ],
   "source": [
    "%%time\n",
    "\n",
    "cnf_matrix = confusion_matrix(y_test_1d, y_pred_1d)\n",
    "plt.figure(figsize=(8,8))\n",
    "plot_confusion_matrix(cnf_matrix, classes=df_train.target.unique(), title=\"Confusion matrix\")\n",
    "plt.show()"
   ]
  },
  {
   "cell_type": "code",
   "execution_count": 63,
   "id": "1526cb15",
   "metadata": {},
   "outputs": [
    {
     "name": "stdout",
     "output_type": "stream",
     "text": [
      "              precision    recall  f1-score   support\n",
      "\n",
      "    NEGATIVE       0.76      0.73      0.74     15878\n",
      "    POSITIVE       0.74      0.77      0.76     16122\n",
      "\n",
      "    accuracy                           0.75     32000\n",
      "   macro avg       0.75      0.75      0.75     32000\n",
      "weighted avg       0.75      0.75      0.75     32000\n",
      "\n"
     ]
    }
   ],
   "source": [
    "#classification report\n",
    "\n",
    "print(classification_report(y_test_1d, y_pred_1d))"
   ]
  },
  {
   "cell_type": "code",
   "execution_count": 64,
   "id": "713c561a",
   "metadata": {},
   "outputs": [
    {
     "data": {
      "text/plain": [
       "0.74946875"
      ]
     },
     "execution_count": 64,
     "metadata": {},
     "output_type": "execute_result"
    }
   ],
   "source": [
    "#Accuracy Score\n",
    "\n",
    "accuracy_score(y_test_1d, y_pred_1d)"
   ]
  },
  {
   "cell_type": "code",
   "execution_count": 65,
   "id": "8c659009",
   "metadata": {},
   "outputs": [
    {
     "name": "stderr",
     "output_type": "stream",
     "text": [
      "/Users/nupurmehlawat/anaconda3/lib/python3.11/site-packages/keras/src/engine/training.py:3000: UserWarning: You are saving your model as an HDF5 file via `model.save()`. This file format is considered legacy. We recommend using instead the native Keras format, e.g. `model.save('my_model.keras')`.\n",
      "  saving_api.save_model(\n",
      "2023-11-20 16:20:20,683 : INFO : Word2Vec lifecycle event {'fname_or_handle': 'model.w2v', 'separately': 'None', 'sep_limit': 10485760, 'ignore': frozenset(), 'datetime': '2023-11-20T16:20:20.683301', 'gensim': '4.3.0', 'python': '3.11.4 (main, Jul  5 2023, 08:54:11) [Clang 14.0.6 ]', 'platform': 'macOS-13.3-arm64-arm-64bit', 'event': 'saving'}\n",
      "2023-11-20 16:20:20,683 : INFO : not storing attribute cum_table\n",
      "2023-11-20 16:20:20,743 : INFO : saved model.w2v\n"
     ]
    }
   ],
   "source": [
    "# Save model\n",
    "\n",
    "model.save(KERAS_MODEL)\n",
    "w2v_model.save(WORD2VEC_MODEL)\n",
    "pickle.dump(tokenizer, open(TOKENIZER_MODEL, \"wb\"), protocol=0)\n",
    "pickle.dump(encoder, open(ENCODER_MODEL, \"wb\"), protocol=0)"
   ]
  },
  {
   "cell_type": "code",
   "execution_count": null,
   "id": "655eca1a",
   "metadata": {},
   "outputs": [],
   "source": []
  }
 ],
 "metadata": {
  "kernelspec": {
   "display_name": "Python 3 (ipykernel)",
   "language": "python",
   "name": "python3"
  },
  "language_info": {
   "codemirror_mode": {
    "name": "ipython",
    "version": 3
   },
   "file_extension": ".py",
   "mimetype": "text/x-python",
   "name": "python",
   "nbconvert_exporter": "python",
   "pygments_lexer": "ipython3",
   "version": "3.11.4"
  }
 },
 "nbformat": 4,
 "nbformat_minor": 5
}
